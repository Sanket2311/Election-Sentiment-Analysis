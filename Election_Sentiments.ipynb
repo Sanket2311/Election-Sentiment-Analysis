{
  "nbformat": 4,
  "nbformat_minor": 0,
  "metadata": {
    "colab": {
      "name": "Election Sentiments.ipynb",
      "version": "0.3.2",
      "provenance": []
    },
    "kernelspec": {
      "name": "python3",
      "display_name": "Python 3"
    },
    "accelerator": "GPU"
  },
  "cells": [
    {
      "metadata": {
        "id": "xR8cut4zua_c",
        "colab_type": "code",
        "colab": {
          "base_uri": "https://localhost:8080/",
          "height": 187
        },
        "outputId": "be60ba52-0170-4b49-e9c6-48257da564ec"
      },
      "cell_type": "code",
      "source": [
        "!pip install tweepy"
      ],
      "execution_count": 1,
      "outputs": [
        {
          "output_type": "stream",
          "text": [
            "Requirement already satisfied: tweepy in /usr/local/lib/python3.6/dist-packages (3.6.0)\n",
            "Requirement already satisfied: requests>=2.11.1 in /usr/local/lib/python3.6/dist-packages (from tweepy) (2.18.4)\n",
            "Requirement already satisfied: six>=1.10.0 in /usr/local/lib/python3.6/dist-packages (from tweepy) (1.11.0)\n",
            "Requirement already satisfied: requests-oauthlib>=0.7.0 in /usr/local/lib/python3.6/dist-packages (from tweepy) (1.2.0)\n",
            "Requirement already satisfied: PySocks>=1.5.7 in /usr/local/lib/python3.6/dist-packages (from tweepy) (1.6.8)\n",
            "Requirement already satisfied: idna<2.7,>=2.5 in /usr/local/lib/python3.6/dist-packages (from requests>=2.11.1->tweepy) (2.6)\n",
            "Requirement already satisfied: urllib3<1.23,>=1.21.1 in /usr/local/lib/python3.6/dist-packages (from requests>=2.11.1->tweepy) (1.22)\n",
            "Requirement already satisfied: certifi>=2017.4.17 in /usr/local/lib/python3.6/dist-packages (from requests>=2.11.1->tweepy) (2019.3.9)\n",
            "Requirement already satisfied: chardet<3.1.0,>=3.0.2 in /usr/local/lib/python3.6/dist-packages (from requests>=2.11.1->tweepy) (3.0.4)\n",
            "Requirement already satisfied: oauthlib>=3.0.0 in /usr/local/lib/python3.6/dist-packages (from requests-oauthlib>=0.7.0->tweepy) (3.0.1)\n"
          ],
          "name": "stdout"
        }
      ]
    },
    {
      "metadata": {
        "id": "ZE2MJXVeudzH",
        "colab_type": "code",
        "colab": {
          "base_uri": "https://localhost:8080/",
          "height": 68
        },
        "outputId": "a79f402f-c128-43f9-8e0e-7c0995fb8bb0"
      },
      "cell_type": "code",
      "source": [
        "!pip install Textblob"
      ],
      "execution_count": 2,
      "outputs": [
        {
          "output_type": "stream",
          "text": [
            "Requirement already satisfied: Textblob in /usr/local/lib/python3.6/dist-packages (0.15.3)\n",
            "Requirement already satisfied: nltk>=3.1 in /usr/local/lib/python3.6/dist-packages (from Textblob) (3.2.5)\n",
            "Requirement already satisfied: six in /usr/local/lib/python3.6/dist-packages (from nltk>=3.1->Textblob) (1.11.0)\n"
          ],
          "name": "stdout"
        }
      ]
    },
    {
      "metadata": {
        "id": "5WToLktUusyA",
        "colab_type": "code",
        "colab": {}
      },
      "cell_type": "code",
      "source": [
        "from textblob import TextBlob"
      ],
      "execution_count": 0,
      "outputs": []
    },
    {
      "metadata": {
        "id": "RV-QC0hou8DT",
        "colab_type": "code",
        "colab": {}
      },
      "cell_type": "code",
      "source": [
        "consumer_key='u2qD037l5zdk7tbWOjaDUtONi'\n",
        "consumer_secret='xjrT0iHX25DjvBD3rBsiwhISC3ivPTGxFSwPmRWhXCH5K4gAXk'\n",
        "access_token='1487354714-oaBeSM305963JmlNqk85XRU3SmW3UcTFvRAcbu1'\n",
        "access_token_secret='1V57yzWjzkYVbJ6rqKUmYUY7k4PNj9crWHsYN20xlHazv'\n"
      ],
      "execution_count": 0,
      "outputs": []
    },
    {
      "metadata": {
        "id": "GUdfoLabvKX6",
        "colab_type": "code",
        "colab": {}
      },
      "cell_type": "code",
      "source": [
        "import tweepy\n",
        "auth= tweepy.OAuthHandler(consumer_key,consumer_secret)"
      ],
      "execution_count": 0,
      "outputs": []
    },
    {
      "metadata": {
        "id": "BqJs2AuovPK2",
        "colab_type": "code",
        "colab": {}
      },
      "cell_type": "code",
      "source": [
        "auth.set_access_token(access_token,access_token_secret)\n",
        "api=tweepy.API(auth)"
      ],
      "execution_count": 0,
      "outputs": []
    },
    {
      "metadata": {
        "id": "wAE-BwnpxObX",
        "colab_type": "code",
        "colab": {
          "base_uri": "https://localhost:8080/",
          "height": 663
        },
        "outputId": "0f54c163-c472-49d0-9fff-e398362699dd"
      },
      "cell_type": "code",
      "source": [
        "public_tweets= api.search(\"Narendra Modi\")\n",
        "\n",
        "cumulative_polarity=0\n",
        "for tweet in public_tweets:\n",
        "  print(tweet.text)\n",
        "  analysis= TextBlob(tweet.text)\n",
        "  print(analysis.sentiment)\n",
        "  cumulative_polarity=cumulative_polarity + analysis.sentiment.polarity\n",
        "  \n",
        "print(\"cumulative polarity is: \", cumulative_polarity)"
      ],
      "execution_count": 28,
      "outputs": [
        {
          "output_type": "stream",
          "text": [
            "RT @ANI: Prime Minister Narendra Modi in Latur, Maharashtra: Aatankwadiyon ke addon main ghus kar marenge. Ye naye Bharat ki niti hai, aata…\n",
            "Sentiment(polarity=0.16666666666666666, subjectivity=0.3333333333333333)\n",
            "RT @muglikar_: 😹😹😹😹😹😹\n",
            "\n",
            "A person right now said \"Mein Pant Pradhan Narendra Modi ji ko iss 'affat' Janta ko sambodhit karne ko kahunga.\n",
            "\n",
            "Aff…\n",
            "Sentiment(polarity=0.2857142857142857, subjectivity=0.5357142857142857)\n",
            "RT @SkyNews: Indian PM Narendra Modi is hoping for re-election - but critics say his pandering to Hindu nationalism is leading to an increa…\n",
            "Sentiment(polarity=0.0, subjectivity=0.0)\n",
            "RT @the_hindu: @the_hindu #Exclusive |Cabinet Committee on Security headed by PM Narendra Modi gave exceptional &amp; unprecedented waivers to…\n",
            "Sentiment(polarity=0.6333333333333333, subjectivity=0.95)\n",
            "“We have ensured that terrorist are identified and killed, even if we have to enter other countries to do so\": Nare… https://t.co/H1I62AVCwt\n",
            "Sentiment(polarity=-0.1625, subjectivity=0.1875)\n",
            "#NarendraModi : With 'Rafale lies' #RahulGandhi Is Trying To Erase #BoforsScam From Father Rajiv's Legacy. Rafale L… https://t.co/WzYfWCOjzt\n",
            "Sentiment(polarity=0.0, subjectivity=0.0)\n",
            "RT @htTweets: \"It is the same Congress which could not take a strong stand in 1947 against India’s division that took away voting right of…\n",
            "Sentiment(polarity=0.23968253968253964, subjectivity=0.46468253968253964)\n",
            "RT @Mohansinha: What a relief!\n",
            "https://t.co/T1XLhR7IJy\n",
            "Sentiment(polarity=0.0, subjectivity=0.0)\n",
            "RT @sardesairajdeep: The @IndiaToday Political Stock Exchange probability analysis suggests 72 % chance of NDA crossing 250 seats and 50 pe…\n",
            "Sentiment(polarity=0.0, subjectivity=0.1)\n",
            "5 years of Achievements by Shri Narendra Modi ” \n",
            "\n",
            " 3. India now has Highest income inequality in 70 years (Source :… https://t.co/qYyCTmdXBV\n",
            "Sentiment(polarity=0.0, subjectivity=0.0)\n",
            "RT @AskAnshul: Air India billed PMO:\n",
            "\n",
            "During 2014 -2019\n",
            "Narendra Modi - Rs 443.4 Cr for 44 foreign visits\n",
            "\n",
            "During 2009 - 2014\n",
            "Manmohan Sing…\n",
            "Sentiment(polarity=-0.125, subjectivity=0.125)\n",
            "RT @htTweets: \"I have come to know that you are sitting here since 9.30 AM. You are sitting here in this extreme heat. I won't let your 'ta…\n",
            "Sentiment(polarity=-0.125, subjectivity=1.0)\n",
            "cumulative polarity is:  0.9128968253968253\n"
          ],
          "name": "stdout"
        }
      ]
    },
    {
      "metadata": {
        "id": "pp028rLWx0Bl",
        "colab_type": "code",
        "colab": {
          "base_uri": "https://localhost:8080/",
          "height": 595
        },
        "outputId": "6b530d66-7271-41b2-9725-246d1cacda9e"
      },
      "cell_type": "code",
      "source": [
        "public_tweets= api.search(\"Rahul Gandhi\")\n",
        "\n",
        "cumulative_polarity=0\n",
        "for tweet in public_tweets:\n",
        "  print(tweet.text)\n",
        "  analysis= TextBlob(tweet.text)\n",
        "  print(analysis.sentiment)\n",
        "  cumulative_polarity=cumulative_polarity + analysis.sentiment.polarity\n",
        "  \n",
        "print(\"cumulative polarity is: \", cumulative_polarity)"
      ],
      "execution_count": 27,
      "outputs": [
        {
          "output_type": "stream",
          "text": [
            "RT @Debiprasadpati: \"Ab hindustan mein congress ko logon ki sympathy tabhi milegi jab Rahul gandhi beta (biological) election mein khada ho…\n",
            "Sentiment(polarity=0.0, subjectivity=0.0)\n",
            "RT @attomeybharti: 1. 377 was decriminalized partly because BJP govt didn’t oppose it in SC\n",
            "\n",
            "2. Modi govt introduced and passed Transgender…\n",
            "Sentiment(polarity=0.0, subjectivity=0.0)\n",
            "RT @Vikas_Purush: @desimojito Rahul gandhi: Dekhiye, paisa Kamalnath ji ke yaha se pakda gaya hai.. Unke naam me kamal hai to seedhi si baa…\n",
            "Sentiment(polarity=0.0, subjectivity=0.0)\n",
            "RT @keshavyadaviyc: Rahul Gandhi's promise of Nyay will lift millions out of poverty and help them lead a dignified life.Good education and…\n",
            "Sentiment(polarity=0.0, subjectivity=0.0)\n",
            "RT @Supriya23bh: Well there were many asking about the mysterious “fifth” hand in the advertisement... Here is original photo which was cli…\n",
            "Sentiment(polarity=0.2916666666666667, subjectivity=0.75)\n",
            "RT @arungiri: Monstrous crowd for DMK President MK Stalin rally in Kanyakumari where BJP won its only seat in TN... Mr. Stalin gives a call…\n",
            "Sentiment(polarity=0.0, subjectivity=1.0)\n",
            "RT @Puneetvizh: घायल पत्रकार ने बताई अपनी कहानी, राहुल-प्रियंका को कहा शुक्रिया https://t.co/chtjp7rpXY\n",
            "Sentiment(polarity=0.0, subjectivity=0.0)\n",
            "RT @keshavyadaviyc: Rahul Gandhi's promise of Nyay will lift millions out of poverty and help them lead a dignified life.Good education and…\n",
            "Sentiment(polarity=0.0, subjectivity=0.0)\n",
            "RT @htTweets: \"I have come to know that you are sitting here since 9.30 AM. You are sitting here in this extreme heat. I won't let your 'ta…\n",
            "Sentiment(polarity=-0.125, subjectivity=1.0)\n",
            ".@RahulGandhi is once again pitted against @smritiirani in Amethi, who has been targeting him for also contesting f… https://t.co/KZ8NaEJZQm\n",
            "Sentiment(polarity=0.0, subjectivity=0.0)\n",
            "RT @sadhavi: And he’s an ENT Surgeon... No, a filthy troll. \n",
            "So I am assuming you only see the patients who are Modi Bhakts and refuse to s…\n",
            "Sentiment(polarity=0.2, subjectivity=1.0)\n",
            "Rahul Gandhi's promise of Nyay will lift millions out of poverty and help them lead a dignified life.Good education… https://t.co/agEsOMYWZj\n",
            "Sentiment(polarity=0.0, subjectivity=0.0)\n",
            "RT @ZeeNewsHindi: राहुल गांधी बोले- BJP का घोषणा पत्र अहंकार से भरा, एक कमरे में बैठकर किया गया तैयार\n",
            "\n",
            "#AbkiBaarKiskiSarkar\n",
            "\n",
            "https://t.co/B…\n",
            "Sentiment(polarity=0.0, subjectivity=0.0)\n",
            "cumulative polarity is:  0.3666666666666667\n"
          ],
          "name": "stdout"
        }
      ]
    },
    {
      "metadata": {
        "id": "xQ1SniRtzGBi",
        "colab_type": "code",
        "colab": {
          "base_uri": "https://localhost:8080/",
          "height": 544
        },
        "outputId": "09186ea2-bc68-4238-8919-94e9517f4b2e"
      },
      "cell_type": "code",
      "source": [
        "public_tweets= api.search(\"Indian National Congress\")\n",
        "\n",
        "cumulative_polarity=0\n",
        "for tweet in public_tweets:\n",
        "  print(tweet.text)\n",
        "  analysis= TextBlob(tweet.text)\n",
        "  print(analysis.sentiment)\n",
        "  cumulative_polarity=cumulative_polarity + analysis.sentiment.polarity\n",
        "  \n",
        "print(\"cumulative polarity is: \", cumulative_polarity)"
      ],
      "execution_count": 29,
      "outputs": [
        {
          "output_type": "stream",
          "text": [
            "OFFICIAL LAUNCH OF THE MANIFESTO OF INDIAN NATIONAL CONGRESS IN MUMBAI B... https://t.co/7A5oWMy9bN via @YouTube\n",
            "Sentiment(polarity=0.0, subjectivity=0.0)\n",
            "The National Students' Union of India is the student wing of the Indian National Congress, established on 9 April 1… https://t.co/vuj9l7Fkfx\n",
            "Sentiment(polarity=0.0, subjectivity=0.0)\n",
            "@MaharajManish @IndianExpress @IndianExpress &amp; @ShekharGupta are pimps and lapdogs of Congress...they are blind ide… https://t.co/O7FNC6dcvr\n",
            "Sentiment(polarity=-0.5, subjectivity=0.6666666666666666)\n",
            "MID_DAY_MUDAA में देखिए \"  \" WITH Honey Mahesh Pathak Neeraj Kohli Journalist Husain Ahmed  Bharatiya Janata Party… https://t.co/sotszxquVv\n",
            "Sentiment(polarity=0.0, subjectivity=0.0)\n",
            "Three parties that have advertised through Google in the run up to the 2019 Lok Sabha elections are BJP, YSR Congre… https://t.co/EYAPPphX0P\n",
            "Sentiment(polarity=0.0, subjectivity=0.0)\n",
            "@ExSecular The extra finger in Indian National Congress’ symbol is for the National Finger Queen https://t.co/Z2sSmegR1g\n",
            "Sentiment(polarity=0.0, subjectivity=0.1)\n",
            "Election-2019#Balapet village #Road Show#LS Election#\n",
            "#RanukammaManakhammam#\n",
            "#INDIAN NATIONAL CONGRESS#\n",
            "#Renukachow… https://t.co/l1dmZ1vKo1\n",
            "Sentiment(polarity=0.0, subjectivity=0.0)\n",
            "@Allan02196561 @Me4Bharat @TarekFatah Translation- ‘Indian National Congress president Rahul Gandhi said that ISIS… https://t.co/EAsmAhKuU7\n",
            "Sentiment(polarity=0.0, subjectivity=0.0)\n",
            "Congress workers in Lakhimpur aggrieved at Bharat Ch Narah, Ranee Narah’s attitude\n",
            "Indian National Congress https://t.co/K0aQGcNtDv\n",
            "Sentiment(polarity=0.0, subjectivity=0.0)\n",
            "Today Watch Live Sanjay Agarwal Ji Indian National Congress On News Nation At 1 P M To 2 P M\n",
            "Sentiment(polarity=0.13636363636363635, subjectivity=0.5)\n",
            "Today Watch Live Sanjay Agarwal Ji Indian National Congress On India News At 10:30 To 11:30 A M\n",
            "Sentiment(polarity=0.13636363636363635, subjectivity=0.5)\n",
            "Indian National Congress will Never Let You Down and will continue to do what they are god at... 3 Months in Madhya… https://t.co/orCK4G3LtE\n",
            "Sentiment(polarity=-0.15555555555555559, subjectivity=0.2888888888888889)\n",
            "RT @LDAgarwal1: BJP = Works for creating National Assets like Highways, Airports, Ports, Modern Cities, Houses with Toilets for every India…\n",
            "Sentiment(polarity=0.2, subjectivity=0.3)\n",
            "cumulative polarity is:  -0.18282828282828284\n"
          ],
          "name": "stdout"
        }
      ]
    },
    {
      "metadata": {
        "id": "NCuu5fSbzg3N",
        "colab_type": "code",
        "colab": {
          "base_uri": "https://localhost:8080/",
          "height": 459
        },
        "outputId": "f5eaa07d-9d16-4bc3-9777-a14c39f8caa4"
      },
      "cell_type": "code",
      "source": [
        "public_tweets= api.search(\"BJP\")\n",
        "\n",
        "cumulative_polarity=0\n",
        "for tweet in public_tweets:\n",
        "  print(tweet.text)\n",
        "  analysis= TextBlob(tweet.text)\n",
        "  print(analysis.sentiment)\n",
        "  cumulative_polarity=cumulative_polarity + analysis.sentiment.polarity\n",
        "  \n",
        "print(\"cumulative polarity is: \", cumulative_polarity)"
      ],
      "execution_count": 31,
      "outputs": [
        {
          "output_type": "stream",
          "text": [
            "RT @muglikar_: Dear @RahulGandhi\n",
            "Why are you quiet on income tax raids? Who is the politician from Delhi Tughlaq Road? Why is Congress worr…\n",
            "Sentiment(polarity=0.0, subjectivity=0.3333333333333333)\n",
            "RT @Swamy39: BJP Manifesto where it deals with J&amp;K has set the pants of Kashmiri extremists on fire.\n",
            "Sentiment(polarity=0.0, subjectivity=0.0)\n",
            "RT @BJP4Rajasthan: राजनयिक और सम्बंधित कैडरों का सशक्तिकरण। #BJPSankalpPatr2019\n",
            "\n",
            "भारतीय जनता पार्टी का संकल्प पत्र-2019 - https://t.co/l9Of…\n",
            "Sentiment(polarity=0.0, subjectivity=0.0)\n",
            "RT @nit_set: #Jumla After drying up funds for drinking water scheme over last five years, Modi repackages a  2014 promise in #BJPManifesto…\n",
            "Sentiment(polarity=0.0, subjectivity=0.06666666666666667)\n",
            "@ndtv Yes Congress’s manifesto is very unlike BJP which has really used  Microsoft word and its tools like copy paste, insert, spell check.\n",
            "Sentiment(polarity=0.2, subjectivity=0.25)\n",
            "RT @madhukishwar: The responses to this RTI application regarding comparative data of those killed in terror attacks or faujis killed durin…\n",
            "Sentiment(polarity=-0.2, subjectivity=0.0)\n",
            "RT @IndianTirangaa: What kind of nutcases have written the manifesto of @BJP4India. India's GDP is around 2.9 trillion dollars. BJP has pro…\n",
            "Sentiment(polarity=0.6, subjectivity=0.9)\n",
            "RT @IndiaToday: #LokSabhaElections2019 \n",
            "The battle of Manifestos | Whose vision is better:  Congress' or BJP's ? \n",
            "Watch #NewsToday with @sa…\n",
            "Sentiment(polarity=0.5, subjectivity=0.5)\n",
            "RT @narendramodi: राष्ट्रवाद हमारी प्रेरणा है, अंत्योदय हमारा दर्शन है और सुशासन हमारा मंत्र है। \n",
            "\n",
            "हमारा संकल्प पत्र सुशासन-पत्र है, राष्ट्…\n",
            "Sentiment(polarity=0.0, subjectivity=0.0)\n",
            "cumulative polarity is:  1.1\n"
          ],
          "name": "stdout"
        }
      ]
    },
    {
      "metadata": {
        "id": "S_97x_ofzosy",
        "colab_type": "code",
        "colab": {}
      },
      "cell_type": "code",
      "source": [
        ""
      ],
      "execution_count": 0,
      "outputs": []
    }
  ]
}